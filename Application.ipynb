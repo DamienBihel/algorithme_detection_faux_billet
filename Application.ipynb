{
 "cells": [
  {
   "cell_type": "markdown",
   "source": [
    "# Application de l'algorithme de détection de faux billets\n",
    "Ce notebook présente l'application de l'algorithme de détection de faux billets sur des données de production. Les données de production sont chargées dans un dataframe pandas. Le modèle entraîné est chargé à partir d'un fichier pickle. Les données sont préparées pour l'application du modèle. Les prédictions sont effectuées et les résultats sont sauvegardés dans un fichier csv. Les résultats sont affichés sous forme de graphiques.\n",
    "\n",
    "# Chargement des librairies"
   ],
   "metadata": {
    "collapsed": false
   }
  },
  {
   "cell_type": "code",
   "execution_count": 2,
   "metadata": {
    "collapsed": true
   },
   "outputs": [],
   "source": [
    "import pickle\n",
    "import pandas as pd\n",
    "import matplotlib.pyplot as plt\n",
    "import seaborn as sns"
   ]
  },
  {
   "cell_type": "markdown",
   "source": [
    "# Chargement du modèle\n",
    "On charge le modèle entraîné à partir d'un fichier pickle. Le fichier pickle contient l'objet python contenant le modèle entraîné."
   ],
   "metadata": {
    "collapsed": false
   }
  },
  {
   "cell_type": "code",
   "execution_count": 3,
   "outputs": [],
   "source": [
    "# Chargement du modèle\n",
    "filename = 'model_LogisticRegression.sav'\n",
    "loaded_model = pickle.load(open(filename, 'rb'))"
   ],
   "metadata": {
    "collapsed": false
   }
  },
  {
   "cell_type": "markdown",
   "source": [
    "# Chargement des données de production\n",
    "C'est ici que les données de production sont chargées dans un dataframe pandas. Les données sont préparées pour l'application du modèle. Les prédictions sont effectuées et les résultats sont sauvegardés dans un fichier csv. Les résultats sont affichés sous forme de graphiques.\n",
    "\n",
    "Dans le bloc de code suivant, il faut mettre le nom du fichier csv contenant les données de production. Le fichier csv doit être dans le même répertoire que le notebook."
   ],
   "metadata": {
    "collapsed": false
   }
  },
  {
   "cell_type": "code",
   "execution_count": 4,
   "outputs": [
    {
     "data": {
      "text/plain": "   diagonal  height_left  height_right  margin_low  margin_up  length   id\n0    171.76       104.01        103.54        5.21       3.30  111.42  A_1\n1    171.87       104.17        104.13        6.00       3.31  112.09  A_2\n2    172.00       104.58        104.29        4.99       3.39  111.57  A_3\n3    172.49       104.55        104.34        4.44       3.03  113.20  A_4\n4    171.65       103.63        103.56        3.77       3.16  113.33  A_5",
      "text/html": "<div>\n<style scoped>\n    .dataframe tbody tr th:only-of-type {\n        vertical-align: middle;\n    }\n\n    .dataframe tbody tr th {\n        vertical-align: top;\n    }\n\n    .dataframe thead th {\n        text-align: right;\n    }\n</style>\n<table border=\"1\" class=\"dataframe\">\n  <thead>\n    <tr style=\"text-align: right;\">\n      <th></th>\n      <th>diagonal</th>\n      <th>height_left</th>\n      <th>height_right</th>\n      <th>margin_low</th>\n      <th>margin_up</th>\n      <th>length</th>\n      <th>id</th>\n    </tr>\n  </thead>\n  <tbody>\n    <tr>\n      <th>0</th>\n      <td>171.76</td>\n      <td>104.01</td>\n      <td>103.54</td>\n      <td>5.21</td>\n      <td>3.30</td>\n      <td>111.42</td>\n      <td>A_1</td>\n    </tr>\n    <tr>\n      <th>1</th>\n      <td>171.87</td>\n      <td>104.17</td>\n      <td>104.13</td>\n      <td>6.00</td>\n      <td>3.31</td>\n      <td>112.09</td>\n      <td>A_2</td>\n    </tr>\n    <tr>\n      <th>2</th>\n      <td>172.00</td>\n      <td>104.58</td>\n      <td>104.29</td>\n      <td>4.99</td>\n      <td>3.39</td>\n      <td>111.57</td>\n      <td>A_3</td>\n    </tr>\n    <tr>\n      <th>3</th>\n      <td>172.49</td>\n      <td>104.55</td>\n      <td>104.34</td>\n      <td>4.44</td>\n      <td>3.03</td>\n      <td>113.20</td>\n      <td>A_4</td>\n    </tr>\n    <tr>\n      <th>4</th>\n      <td>171.65</td>\n      <td>103.63</td>\n      <td>103.56</td>\n      <td>3.77</td>\n      <td>3.16</td>\n      <td>113.33</td>\n      <td>A_5</td>\n    </tr>\n  </tbody>\n</table>\n</div>"
     },
     "execution_count": 4,
     "metadata": {},
     "output_type": "execute_result"
    }
   ],
   "source": [
    "# Chargement des données\n",
    "data = pd.read_csv('billets_production.csv', sep=',', decimal='.')\n",
    "data.head()"
   ],
   "metadata": {
    "collapsed": false
   }
  },
  {
   "cell_type": "markdown",
   "source": [
    "On supprime les valeurs manquantes"
   ],
   "metadata": {
    "collapsed": false
   }
  },
  {
   "cell_type": "code",
   "execution_count": 5,
   "outputs": [],
   "source": [
    "# suppression des valeurs manquantes\n",
    "data_clean = data.dropna()"
   ],
   "metadata": {
    "collapsed": false
   }
  },
  {
   "cell_type": "markdown",
   "source": [
    "# Prediction des faux billets\n",
    "On utilise le modèle chargé pour prédire les classes des billets. On calcule les probabilités de prédiction. On crée un dataframe avec les résultats. On sauvegarde les résultats dans un fichier csv. On affiche les résultats sous forme de graphiques."
   ],
   "metadata": {
    "collapsed": false
   }
  },
  {
   "cell_type": "code",
   "execution_count": 6,
   "outputs": [
    {
     "data": {
      "text/plain": "array([0, 0, 0, 1, 1])"
     },
     "execution_count": 6,
     "metadata": {},
     "output_type": "execute_result"
    }
   ],
   "source": [
    "# utilisation du modèle pour prédire les classes\n",
    "y_pred = loaded_model.predict(data_clean.select_dtypes(exclude='object'))\n",
    "y_pred"
   ],
   "metadata": {
    "collapsed": false
   }
  },
  {
   "cell_type": "code",
   "execution_count": 7,
   "outputs": [
    {
     "data": {
      "text/plain": "array([[9.93887347e-01, 6.11265256e-03],\n       [9.98885579e-01, 1.11442106e-03],\n       [9.98586040e-01, 1.41396005e-03],\n       [8.66713459e-02, 9.13328654e-01],\n       [4.41190642e-04, 9.99558809e-01]])"
     },
     "execution_count": 7,
     "metadata": {},
     "output_type": "execute_result"
    }
   ],
   "source": [
    "# calcul des probabilités\n",
    "proba_pred = loaded_model.predict_proba(data_clean.select_dtypes(exclude='object'))\n",
    "proba_pred"
   ],
   "metadata": {
    "collapsed": false
   }
  },
  {
   "cell_type": "code",
   "execution_count": 8,
   "outputs": [
    {
     "data": {
      "text/plain": "   diagonal  height_left  height_right  margin_low  margin_up  length   id  \\\n0    171.76       104.01        103.54        5.21       3.30  111.42  A_1   \n1    171.87       104.17        104.13        6.00       3.31  112.09  A_2   \n2    172.00       104.58        104.29        4.99       3.39  111.57  A_3   \n3    172.49       104.55        104.34        4.44       3.03  113.20  A_4   \n4    171.65       103.63        103.56        3.77       3.16  113.33  A_5   \n\n        y_pred  proba_pred_faux  proba_pred_vrai  \n0  Faux billet         0.993887         0.006113  \n1  Faux billet         0.998886         0.001114  \n2  Faux billet         0.998586         0.001414  \n3  Vrai billet         0.086671         0.913329  \n4  Vrai billet         0.000441         0.999559  ",
      "text/html": "<div>\n<style scoped>\n    .dataframe tbody tr th:only-of-type {\n        vertical-align: middle;\n    }\n\n    .dataframe tbody tr th {\n        vertical-align: top;\n    }\n\n    .dataframe thead th {\n        text-align: right;\n    }\n</style>\n<table border=\"1\" class=\"dataframe\">\n  <thead>\n    <tr style=\"text-align: right;\">\n      <th></th>\n      <th>diagonal</th>\n      <th>height_left</th>\n      <th>height_right</th>\n      <th>margin_low</th>\n      <th>margin_up</th>\n      <th>length</th>\n      <th>id</th>\n      <th>y_pred</th>\n      <th>proba_pred_faux</th>\n      <th>proba_pred_vrai</th>\n    </tr>\n  </thead>\n  <tbody>\n    <tr>\n      <th>0</th>\n      <td>171.76</td>\n      <td>104.01</td>\n      <td>103.54</td>\n      <td>5.21</td>\n      <td>3.30</td>\n      <td>111.42</td>\n      <td>A_1</td>\n      <td>Faux billet</td>\n      <td>0.993887</td>\n      <td>0.006113</td>\n    </tr>\n    <tr>\n      <th>1</th>\n      <td>171.87</td>\n      <td>104.17</td>\n      <td>104.13</td>\n      <td>6.00</td>\n      <td>3.31</td>\n      <td>112.09</td>\n      <td>A_2</td>\n      <td>Faux billet</td>\n      <td>0.998886</td>\n      <td>0.001114</td>\n    </tr>\n    <tr>\n      <th>2</th>\n      <td>172.00</td>\n      <td>104.58</td>\n      <td>104.29</td>\n      <td>4.99</td>\n      <td>3.39</td>\n      <td>111.57</td>\n      <td>A_3</td>\n      <td>Faux billet</td>\n      <td>0.998586</td>\n      <td>0.001414</td>\n    </tr>\n    <tr>\n      <th>3</th>\n      <td>172.49</td>\n      <td>104.55</td>\n      <td>104.34</td>\n      <td>4.44</td>\n      <td>3.03</td>\n      <td>113.20</td>\n      <td>A_4</td>\n      <td>Vrai billet</td>\n      <td>0.086671</td>\n      <td>0.913329</td>\n    </tr>\n    <tr>\n      <th>4</th>\n      <td>171.65</td>\n      <td>103.63</td>\n      <td>103.56</td>\n      <td>3.77</td>\n      <td>3.16</td>\n      <td>113.33</td>\n      <td>A_5</td>\n      <td>Vrai billet</td>\n      <td>0.000441</td>\n      <td>0.999559</td>\n    </tr>\n  </tbody>\n</table>\n</div>"
     },
     "execution_count": 8,
     "metadata": {},
     "output_type": "execute_result"
    }
   ],
   "source": [
    "# création d'un dataframe avec les résultats\n",
    "data_result = data_clean.copy()\n",
    "data_result['y_pred'] = y_pred\n",
    "code = {1 : 'Vrai billet', 0 : 'Faux billet'}\n",
    "\n",
    "data_result['y_pred'] = data_result['y_pred'].map(code)\n",
    "\n",
    "# ajout des probabilités\n",
    "data_result['proba_pred_faux'] = proba_pred[:,0]\n",
    "data_result['proba_pred_vrai'] = proba_pred[:,1]\n",
    "\n",
    "data_result.head()"
   ],
   "metadata": {
    "collapsed": false
   }
  },
  {
   "cell_type": "markdown",
   "source": [
    "On obtient le classemement des billetss, ainsi que la probabilité de prédiction pour chaque classe. On peut ainsi identifier les billets qui sont prédits comme faux billets.\n",
    "\n",
    "# Sauvegarde des résultats"
   ],
   "metadata": {
    "collapsed": false
   }
  },
  {
   "cell_type": "code",
   "execution_count": 9,
   "outputs": [],
   "source": [
    "# sauvegarde des résultats\n",
    "data_result.to_csv('resultats.csv', sep=';', decimal='.', index=False)\n"
   ],
   "metadata": {
    "collapsed": false
   }
  },
  {
   "cell_type": "markdown",
   "source": [
    "# Affichage des résultats avec le nombre de billets par classe"
   ],
   "metadata": {
    "collapsed": false
   }
  },
  {
   "cell_type": "code",
   "execution_count": 11,
   "outputs": [
    {
     "data": {
      "text/plain": "<Figure size 640x480 with 1 Axes>",
      "image/png": "[encoded data removed]"
     },
     "metadata": {},
     "output_type": "display_data"
    }
   ],
   "source": [
    "# Affichage des résultats avec le nombre de billets par classe\n",
    "custom_palette = {'Vrai billet': 'green', 'Faux billet': 'red'}\n",
    "order = data_result['y_pred'].value_counts().index\n",
    "\n",
    "sns.countplot(x='y_pred', data=data_result, palette=custom_palette, order=order)\n",
    "\n",
    "\n",
    "plt.title('Nombre de billets par classe prédite')\n",
    "plt.xlabel('Classe prédite')\n",
    "plt.ylabel('Nombre de billets')\n",
    "plt.show()\n"
   ],
   "metadata": {
    "collapsed": false
   }
  },
  {
   "cell_type": "code",
   "execution_count": 12,
   "outputs": [
    {
     "data": {
      "text/plain": "   diagonal  height_left  height_right  margin_low  margin_up  length   id  \\\n0    171.76       104.01        103.54        5.21       3.30  111.42  A_1   \n1    171.87       104.17        104.13        6.00       3.31  112.09  A_2   \n2    172.00       104.58        104.29        4.99       3.39  111.57  A_3   \n\n        y_pred  proba_pred_faux  proba_pred_vrai  \n0  Faux billet         0.993887         0.006113  \n1  Faux billet         0.998886         0.001114  \n2  Faux billet         0.998586         0.001414  ",
      "text/html": "<div>\n<style scoped>\n    .dataframe tbody tr th:only-of-type {\n        vertical-align: middle;\n    }\n\n    .dataframe tbody tr th {\n        vertical-align: top;\n    }\n\n    .dataframe thead th {\n        text-align: right;\n    }\n</style>\n<table border=\"1\" class=\"dataframe\">\n  <thead>\n    <tr style=\"text-align: right;\">\n      <th></th>\n      <th>diagonal</th>\n      <th>height_left</th>\n      <th>height_right</th>\n      <th>margin_low</th>\n      <th>margin_up</th>\n      <th>length</th>\n      <th>id</th>\n      <th>y_pred</th>\n      <th>proba_pred_faux</th>\n      <th>proba_pred_vrai</th>\n    </tr>\n  </thead>\n  <tbody>\n    <tr>\n      <th>0</th>\n      <td>171.76</td>\n      <td>104.01</td>\n      <td>103.54</td>\n      <td>5.21</td>\n      <td>3.30</td>\n      <td>111.42</td>\n      <td>A_1</td>\n      <td>Faux billet</td>\n      <td>0.993887</td>\n      <td>0.006113</td>\n    </tr>\n    <tr>\n      <th>1</th>\n      <td>171.87</td>\n      <td>104.17</td>\n      <td>104.13</td>\n      <td>6.00</td>\n      <td>3.31</td>\n      <td>112.09</td>\n      <td>A_2</td>\n      <td>Faux billet</td>\n      <td>0.998886</td>\n      <td>0.001114</td>\n    </tr>\n    <tr>\n      <th>2</th>\n      <td>172.00</td>\n      <td>104.58</td>\n      <td>104.29</td>\n      <td>4.99</td>\n      <td>3.39</td>\n      <td>111.57</td>\n      <td>A_3</td>\n      <td>Faux billet</td>\n      <td>0.998586</td>\n      <td>0.001414</td>\n    </tr>\n  </tbody>\n</table>\n</div>"
     },
     "execution_count": 12,
     "metadata": {},
     "output_type": "execute_result"
    }
   ],
   "source": [
    "# liste de faux billets\n",
    "data_result[data_result['y_pred'] == 'Faux billet']"
   ],
   "metadata": {
    "collapsed": false
   }
  },
  {
   "cell_type": "code",
   "execution_count": 14,
   "outputs": [
    {
     "data": {
      "text/plain": "   diagonal  height_left  height_right  margin_low  margin_up  length   id  \\\n3    172.49       104.55        104.34        4.44       3.03  113.20  A_4   \n4    171.65       103.63        103.56        3.77       3.16  113.33  A_5   \n\n        y_pred  proba_pred_faux  proba_pred_vrai  \n3  Vrai billet         0.086671         0.913329  \n4  Vrai billet         0.000441         0.999559  ",
      "text/html": "<div>\n<style scoped>\n    .dataframe tbody tr th:only-of-type {\n        vertical-align: middle;\n    }\n\n    .dataframe tbody tr th {\n        vertical-align: top;\n    }\n\n    .dataframe thead th {\n        text-align: right;\n    }\n</style>\n<table border=\"1\" class=\"dataframe\">\n  <thead>\n    <tr style=\"text-align: right;\">\n      <th></th>\n      <th>diagonal</th>\n      <th>height_left</th>\n      <th>height_right</th>\n      <th>margin_low</th>\n      <th>margin_up</th>\n      <th>length</th>\n      <th>id</th>\n      <th>y_pred</th>\n      <th>proba_pred_faux</th>\n      <th>proba_pred_vrai</th>\n    </tr>\n  </thead>\n  <tbody>\n    <tr>\n      <th>3</th>\n      <td>172.49</td>\n      <td>104.55</td>\n      <td>104.34</td>\n      <td>4.44</td>\n      <td>3.03</td>\n      <td>113.20</td>\n      <td>A_4</td>\n      <td>Vrai billet</td>\n      <td>0.086671</td>\n      <td>0.913329</td>\n    </tr>\n    <tr>\n      <th>4</th>\n      <td>171.65</td>\n      <td>103.63</td>\n      <td>103.56</td>\n      <td>3.77</td>\n      <td>3.16</td>\n      <td>113.33</td>\n      <td>A_5</td>\n      <td>Vrai billet</td>\n      <td>0.000441</td>\n      <td>0.999559</td>\n    </tr>\n  </tbody>\n</table>\n</div>"
     },
     "execution_count": 14,
     "metadata": {},
     "output_type": "execute_result"
    }
   ],
   "source": [
    "# liste de vrais billets\n",
    "data_result[data_result['y_pred'] == 'Vrai billet']\n"
   ],
   "metadata": {
    "collapsed": false
   }
  }
 ],
 "metadata": {
  "kernelspec": {
   "display_name": "Python 3",
   "language": "python",
   "name": "python3"
  },
  "language_info": {
   "codemirror_mode": {
    "name": "ipython",
    "version": 2
   },
   "file_extension": ".py",
   "mimetype": "text/x-python",
   "name": "python",
   "nbconvert_exporter": "python",
   "pygments_lexer": "ipython2",
   "version": "2.7.6"
  }
 },
 "nbformat": 4,
 "nbformat_minor": 0
}
